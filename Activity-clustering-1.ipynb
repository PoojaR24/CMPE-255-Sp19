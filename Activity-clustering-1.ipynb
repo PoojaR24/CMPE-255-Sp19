{
 "cells": [
  {
   "cell_type": "markdown",
   "metadata": {},
   "source": [
    "### DBScan experiment with NetworkX ###\n",
    "In this activity, we will demonstrate a simple implementation of the DBScan algorithm that uses the NetworkX package to conveniently identify the connected components of the graph formed during the points analysis. NetworkX will also be used to visualize the identified connected components."
   ]
  },
  {
   "cell_type": "code",
   "execution_count": null,
   "metadata": {
    "colab": {},
    "colab_type": "code",
    "id": "EHMuQtQNX3Ki"
   },
   "outputs": [],
   "source": [
    "#DBSCAN tryout using NetworkX\n",
    "import numpy as np\n",
    "import matplotlib.pyplot as plt\n",
    "import networkx as nx"
   ]
  },
  {
   "cell_type": "code",
   "execution_count": null,
   "metadata": {
    "colab": {},
    "colab_type": "code",
    "id": "xBYVxUOEaHbB"
   },
   "outputs": [],
   "source": [
    "#Sample Points(1-dimensional)\n",
    "points = np.array([[1.0, 1.7],\n",
    "                   [2.1, 2.3],\n",
    "                   [2.9, 2.1],\n",
    "                   [4.5, 3.3],\n",
    "                   [5.0, 3.6],\n",
    "                   [5.6, 3.9],\n",
    "                   [6.2, 4.3],\n",
    "                   [6.5, 4.8],\n",
    "                   [7.1, 9.3],\n",
    "                   [9.1, 9.9],\n",
    "                   [10.0, 8.9],\n",
    "                   [11.0, 9.3],\n",
    "                   [13.5, 10.1],\n",
    "                   [17.0, 10.8],\n",
    "                   [19.0, 11.1],\n",
    "                   [19.5, 13.3],\n",
    "                   [19.7, 15.3],\n",
    "                   [19.9, 17.3],\n",
    "                   [20.5, 17.4],\n",
    "                   [25.0, 17.9],\n",
    "                   [25.5, 17.2],\n",
    "                   [25.7, 17.0],\n",
    "                   [25.8, 17.6]])\n",
    "eps = 1.5\n",
    "minPts = 4"
   ]
  },
  {
   "cell_type": "code",
   "execution_count": null,
   "metadata": {},
   "outputs": [],
   "source": [
    "plt.subplot(111)\n",
    "plt.scatter(points[:,0], points[:,1])\n",
    "plt.show()"
   ]
  },
  {
   "cell_type": "code",
   "execution_count": null,
   "metadata": {
    "colab": {},
    "colab_type": "code",
    "id": "Z6-jZOEphn9b"
   },
   "outputs": [],
   "source": [
    "# Find core points with minPts as 4 and Euclidean distance as 1.5\n",
    "neighborhoods = []\n",
    "core = []\n",
    "border = []\n",
    "noise = []\n",
    "\n",
    "for i in range(len(points)):\n",
    "    neighbors = []\n",
    "    for p in range(0, len(points)):\n",
    "        # If the distance is below eps, p is a neighbor\n",
    "        if np.linalg.norm(points[i] - points[p]) <= eps:\n",
    "            neighbors.append(p)\n",
    "    neighborhoods.append(neighbors)\n",
    "    # If neighborhood has at least minPts, i is a core point\n",
    "    if len(neighbors) >= minPts :\n",
    "        core.append(i)\n",
    "\n",
    "print(\"core: \", core)"
   ]
  },
  {
   "cell_type": "code",
   "execution_count": null,
   "metadata": {
    "colab": {},
    "colab_type": "code",
    "id": "3RunbijkvD0h"
   },
   "outputs": [],
   "source": [
    "# Find border points \n",
    "for i in range(len(points)):\n",
    "    neighbors = neighborhoods[i]\n",
    "    # Look at points that are not core points\n",
    "    if len(neighbors) < minPts:\n",
    "        for j in range(len(neighbors)):\n",
    "            # If one of its neighbors is a core, it is also in the core point's neighborhood, \n",
    "            # thus it is a border point rather than a noise point\n",
    "            if neighbors[j] in core:\n",
    "                border.append(i)\n",
    "                # Need at least one core point...\n",
    "                break\n",
    "\n",
    "print(\"border: \", border)"
   ]
  },
  {
   "cell_type": "code",
   "execution_count": null,
   "metadata": {
    "colab": {},
    "colab_type": "code",
    "id": "iCiy3FLO0nWB"
   },
   "outputs": [],
   "source": [
    "# Find noise points\n",
    "for i in range(len(points)):\n",
    "    if i not in core and i not in border:\n",
    "        noise.append(i)\n",
    "\n",
    "print(\"noise\", noise)"
   ]
  },
  {
   "cell_type": "code",
   "execution_count": null,
   "metadata": {
    "colab": {},
    "colab_type": "code",
    "id": "b2PbTgXnibKU"
   },
   "outputs": [],
   "source": [
    "# Invoke graph instance to visualize the cluster\n",
    "G = nx.Graph()"
   ]
  },
  {
   "cell_type": "code",
   "execution_count": null,
   "metadata": {
    "colab": {},
    "colab_type": "code",
    "id": "ZgEZpPDoihGW"
   },
   "outputs": [],
   "source": [
    "# Add nodes -- core points + border points\n",
    "nodes = core+border\n",
    "G.add_nodes_from(nodes)"
   ]
  },
  {
   "cell_type": "code",
   "execution_count": null,
   "metadata": {
    "colab": {},
    "colab_type": "code",
    "id": "1lCgvfH8jbnp"
   },
   "outputs": [],
   "source": [
    "# Create neighborhood\n",
    "for i in range(len(nodes)):\n",
    "    for p in range(len(nodes)):\n",
    "        # If the distance is below the threshold, add a link in the graph.\n",
    "        if p != i and np.linalg.norm(points[nodes[i]] - points[nodes[p]]) <= eps:\n",
    "            G.add_edges_from([(nodes[i], nodes[p])])"
   ]
  },
  {
   "cell_type": "code",
   "execution_count": null,
   "metadata": {},
   "outputs": [],
   "source": [
    "# List the connected components / clusters\n",
    "clusters = list(nx.connected_components(G))\n",
    "print(\"# clusters:\", len(clusters))\n",
    "print(\"clusters: \", clusters)"
   ]
  },
  {
   "cell_type": "code",
   "execution_count": null,
   "metadata": {
    "colab": {
     "base_uri": "https://localhost:8080/",
     "height": 481
    },
    "colab_type": "code",
    "id": "o3wpjacvldv7",
    "outputId": "10e6fb79-6f43-483e-9cb1-546778a1f2bf"
   },
   "outputs": [],
   "source": [
    "# Visualise the graph\n",
    "plt.subplot(111)\n",
    "nx.draw_circular(G, with_labels=True, font_weight='bold')\n",
    "plt.show()"
   ]
  }
 ],
 "metadata": {
  "colab": {
   "name": "Activity_dbscan_Using_NetworkX.ipynb",
   "provenance": [],
   "version": "0.3.2"
  },
  "kernelspec": {
   "display_name": "Python 3",
   "language": "python",
   "name": "python3"
  },
  "language_info": {
   "codemirror_mode": {
    "name": "ipython",
    "version": 3
   },
   "file_extension": ".py",
   "mimetype": "text/x-python",
   "name": "python",
   "nbconvert_exporter": "python",
   "pygments_lexer": "ipython3",
   "version": "3.6.3"
  }
 },
 "nbformat": 4,
 "nbformat_minor": 1
}
